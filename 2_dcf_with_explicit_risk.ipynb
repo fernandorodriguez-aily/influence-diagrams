{
 "cells": [
  {
   "metadata": {},
   "cell_type": "markdown",
   "source": [
    "# Objective\n",
    "\n",
    "El objetivo de este notebook es preparar una explicacion de lo siguiente:\n",
    "\n",
    "* Como funciona la estimacion de DCF y NPV\n",
    "* Como se estima el discount rate\n",
    "* Como se hace para añadir riesgo y generar el risk-adjusted risk adjusted discount rate\n",
    "* Mostrar como podemos definir de forma explicita el riesgo mediante variables como probability of success y probability of regulation\n",
    "\n",
    "\n",
    "Mi idea es definir de forma mas explicita el NPV. Podemos empezar de forma simple con un discount rate que aglutine lo basico y luego utilizar un diagrama de influencia para representar riesgos especificos que sanofi considera como son \n",
    "* Probability of success\n",
    "* Probability of regulation\n",
    "\n",
    "El tema es que cada uno de estos tiene consecuencias en el valor final. Por ejemplo, en un caso extremo, podemos poner que si el outcome de PoS es negativo, el NPV se vuelve cero. Pero tambien podriamos considerar que los cashflows se retrasan X tiempo y que por tanto el NPV no se vuelve cero pero disminuye. La misma idea aplicaria para la probabilidad de regulacion.\n",
    "\n",
    "Esta tarea es una mezcla de finanzas tradicionales con diagrams de influencia. Puede que haya otros modelos para representar explicitamente estos riesgos pero yo los desconozco y por mi experiencia la gente simplemente utiliza \n",
    "\n",
    "\n",
    "Preguntas que me surgen:\n",
    "* Que informacion especifica nos provee Sanofi para estimar el NPV?\n",
    "    * Estimation of sales?\n",
    "    * Estimation of costs?\n",
    "    * Default constant value of discount rate?\n",
    "    * % of sales on each currency? (affects risk-free-rate)\n",
    "    * % of debt required for the investment (we can generate a mean value assuming the debt level of the copany)\n",
    "\n",
    "TODO: Poner toda esta informacion en un Miro board para que sea facilmente explicable sin necesidad de preparar una presentacion y sin tener terminado el notebook\n",
    "\n",
    "Damodaran (NYU) tiene\n"
   ],
   "id": "2a8852358656c762"
  },
  {
   "metadata": {},
   "cell_type": "markdown",
   "source": "# Introduction",
   "id": "8fdf654900b189ad"
  },
  {
   "metadata": {},
   "cell_type": "markdown",
   "source": [
    "## Net Present Value (NPV)\n",
    "\n",
    "The idea behind NPV is to project all of the future cash inflows and outflows associated with an investment, discount all those future cash flows to the present day, and then add them together."
   ],
   "id": "7f24f3df07038249"
  },
  {
   "metadata": {},
   "cell_type": "markdown",
   "source": [
    "### What Is a Good NPV?\n",
    "\n",
    "In theory, an NPV is “good” if it is greater than zero. After all, the NPV calculation already takes into account factors such as:\n",
    "* Investor’s cost of capital\n",
    "* Opportunity cost\n",
    "* Investor's risk tolerance\n",
    "\n",
    "All of these are introduced into the discount rate. Also, the future cash flows of the project, together with the time value of money, are also captured. Therefore, even an NPV of $1 should theoretically qualify as “good,” indicating that the project is worthwhile. In practice, since estimates used in the calculation are subject to error, many planners will set a higher bar for NPV to give themselves an additional margin of safety."
   ],
   "id": "eefe1ede76318894"
  },
  {
   "cell_type": "code",
   "execution_count": null,
   "id": "initial_id",
   "metadata": {
    "collapsed": true
   },
   "outputs": [],
   "source": [
    ""
   ]
  }
 ],
 "metadata": {
  "kernelspec": {
   "display_name": "Python 3",
   "language": "python",
   "name": "python3"
  },
  "language_info": {
   "codemirror_mode": {
    "name": "ipython",
    "version": 2
   },
   "file_extension": ".py",
   "mimetype": "text/x-python",
   "name": "python",
   "nbconvert_exporter": "python",
   "pygments_lexer": "ipython2",
   "version": "2.7.6"
  }
 },
 "nbformat": 4,
 "nbformat_minor": 5
}
